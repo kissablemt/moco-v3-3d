{
 "cells": [
  {
   "cell_type": "code",
   "execution_count": 1,
   "metadata": {},
   "outputs": [
    {
     "name": "stdout",
     "output_type": "stream",
     "text": [
      "/home/wzt/src/moco-v3-3d\n"
     ]
    }
   ],
   "source": [
    "%cd /home/wzt/src/moco-v3-3d/"
   ]
  },
  {
   "cell_type": "code",
   "execution_count": 2,
   "metadata": {},
   "outputs": [],
   "source": [
    "import transforms as my_transforms\n",
    "import datasets as my_datasets\n",
    "import monai\n",
    "import torch"
   ]
  },
  {
   "cell_type": "code",
   "execution_count": 3,
   "metadata": {},
   "outputs": [
    {
     "name": "stdout",
     "output_type": "stream",
     "text": [
      "torch.Size([1, 48, 48, 48]) torch.Size([1, 48, 48, 48])\n",
      "train_loader: [OK]\n"
     ]
    }
   ],
   "source": [
    "def make_transform(patch_size):\n",
    "    aug_block = my_transforms.aug_transform(size=patch_size)\n",
    "    return monai.transforms.Compose([\n",
    "        monai.transforms.EnsureChannelFirst(channel_dim='no_channel'),\n",
    "        my_transforms.Duplicate(transforms1=aug_block, transforms2=aug_block),\n",
    "    ])\n",
    "\n",
    "traindir = '/home/wzt/src/fmcibx/data/ROI_resize48/images_cut_48_resize'\n",
    "train_dataset = my_datasets.SSLNoCropDataset(traindir, size=48, transform=make_transform(48), enable_negatives=False)\n",
    "x, _ = train_dataset[0]\n",
    "x1, x2 = x\n",
    "print(x1.shape, x2.shape)\n",
    "\n",
    "train_sampler = None if 1 else torch.utils.data.distributed.DistributedSampler(train_dataset)\n",
    "train_loader = torch.utils.data.DataLoader(\n",
    "    train_dataset, batch_size=4, shuffle=(train_sampler is None),\n",
    "    num_workers=0, pin_memory=True, sampler=train_sampler, drop_last=True)\n",
    "print(\"train_loader: [OK]\")"
   ]
  },
  {
   "cell_type": "code",
   "execution_count": 4,
   "metadata": {},
   "outputs": [],
   "source": [
    "for i, (images, _) in enumerate(train_loader):\n",
    "    break"
   ]
  },
  {
   "cell_type": "code",
   "execution_count": 5,
   "metadata": {},
   "outputs": [
    {
     "data": {
      "text/plain": [
       "metatensor(1.3490, grad_fn=<AliasBackward0>)"
      ]
     },
     "execution_count": 5,
     "metadata": {},
     "output_type": "execute_result"
    }
   ],
   "source": [
    "from functools import partial\n",
    "import moco.builder\n",
    "import vits_3d\n",
    "import json\n",
    "from easydict import EasyDict as edict\n",
    "\n",
    "with open(\"/home/wzt/src/moco-v3-3d/args.json\") as f:\n",
    "    args = edict(json.load(f))\n",
    "\n",
    "\n",
    "model = moco.builder.MoCo_ViT(\n",
    "    partial(vits_3d.__dict__[args.arch], stop_grad_conv1=args.stop_grad_conv1, img_size=48, in_chans=1),\n",
    "    args.moco_dim, args.moco_mlp_dim, args.moco_t)\n",
    "\n",
    "\n",
    "moco_m = args.moco_m\n",
    "\n",
    "model(images[0], images[1], moco_m)"
   ]
  },
  {
   "cell_type": "code",
   "execution_count": 6,
   "metadata": {},
   "outputs": [
    {
     "data": {
      "text/plain": [
       "metatensor(1.1090, grad_fn=<AliasBackward0>)"
      ]
     },
     "execution_count": 6,
     "metadata": {},
     "output_type": "execute_result"
    }
   ],
   "source": [
    "model(torch.zeros_like(images[0]), torch.zeros_like(images[0]), moco_m)"
   ]
  },
  {
   "cell_type": "code",
   "execution_count": 9,
   "metadata": {},
   "outputs": [
    {
     "data": {
      "text/plain": [
       "metatensor(False)"
      ]
     },
     "execution_count": 9,
     "metadata": {},
     "output_type": "execute_result"
    }
   ],
   "source": [
    "images[0].isnan().any() or images[1].isnan().any()"
   ]
  }
 ],
 "metadata": {
  "kernelspec": {
   "display_name": "fmcib",
   "language": "python",
   "name": "python3"
  },
  "language_info": {
   "codemirror_mode": {
    "name": "ipython",
    "version": 3
   },
   "file_extension": ".py",
   "mimetype": "text/x-python",
   "name": "python",
   "nbconvert_exporter": "python",
   "pygments_lexer": "ipython3",
   "version": "3.9.18"
  }
 },
 "nbformat": 4,
 "nbformat_minor": 2
}
