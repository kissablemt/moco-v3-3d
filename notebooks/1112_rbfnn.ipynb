{
 "cells": [
  {
   "cell_type": "code",
   "execution_count": 1,
   "metadata": {},
   "outputs": [],
   "source": [
    "import torch\n",
    "from scipy.stats.qmc import Halton\n",
    "\n",
    "def halton_perturbations(dim, Q, n_samples=64, batch_size=1):\n",
    "    \"\"\"\n",
    "    Generate Halton sequence based perturbations.\n",
    "\n",
    "    Parameters:\n",
    "    dim (int): Dimension of the input data.\n",
    "    Q (float): The range for perturbations.\n",
    "    n_samples (int): Number of perturbed samples to generate.\n",
    "    batch_size (int): Size of each batch.\n",
    "    \n",
    "    Returns:\n",
    "    np.ndarray: Array of perturbations.\n",
    "    \"\"\"\n",
    "    sampler = Halton(dim)\n",
    "    # Generate Halton points in [0, 1], then scale to [-Q, Q]\n",
    "    x = (sampler.random(n_samples * batch_size) * 2 - 1) * Q\n",
    "    return x.reshape(batch_size, n_samples, dim)\n",
    "\n",
    "def model(x):\n",
    "    # x.shape: B, N, D\n",
    "    fc = torch.nn.Linear(x.shape[-1], 5)\n",
    "    x = fc(x)\n",
    "    return x\n",
    "\n",
    "def loss(y, y_pert):\n",
    "    return torch.mean((y - y_pert)**2)"
   ]
  },
  {
   "cell_type": "code",
   "execution_count": 2,
   "metadata": {},
   "outputs": [
    {
     "name": "stdout",
     "output_type": "stream",
     "text": [
      "tensor(0.9066, grad_fn=<MeanBackward0>)\n"
     ]
    }
   ],
   "source": [
    "def test():\n",
    "    batch_size = 1\n",
    "    Q = 0.5  # Example Q value\n",
    "    n_features = 3\n",
    "    H = 64\n",
    "    x = torch.randn(batch_size, n_features)  # Example input batch, batch size = 1\n",
    "\n",
    "    delta_x = torch.from_numpy(halton_perturbations(n_features, Q, H)).float()\n",
    "    x_pert = x.unsqueeze(1) + delta_x\n",
    "\n",
    "    y = model(x)\n",
    "    y_pert = model(x_pert)\n",
    "    SSM_loss = loss(y, y_pert)\n",
    "    print(SSM_loss)\n",
    "\n",
    "test()"
   ]
  }
 ],
 "metadata": {
  "kernelspec": {
   "display_name": "Python 3 (ipykernel)",
   "language": "python",
   "name": "python3"
  }
 },
 "nbformat": 4,
 "nbformat_minor": 2
}
